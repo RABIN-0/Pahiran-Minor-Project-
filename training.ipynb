{
 "cells": [
  {
   "cell_type": "code",
   "execution_count": 1,
   "metadata": {},
   "outputs": [],
   "source": [
    "%run \"training_module.ipynb\""
   ]
  },
  {
   "cell_type": "code",
   "execution_count": 2,
   "metadata": {},
   "outputs": [],
   "source": [
    "\n",
    "\n",
    "import tensorflow as tf\n",
    "from tensorflow import keras\n",
    "from tensorflow.keras.preprocessing import image\n",
    "from tensorflow.keras.preprocessing.image import ImageDataGenerator\n",
    "\n",
    "import tensorflow as tf\n",
    "from tensorflow.keras import layers\n",
    "from tensorflow.keras import losses\n",
    "from tensorflow import keras\n",
    "\n",
    "from tensorflow.keras.preprocessing import image\n",
    "\n",
    "from tensorflow.keras.layers.experimental.preprocessing import TextVectorization\n",
    "from tensorflow.keras.layers.experimental.preprocessing import StringLookup\n",
    "\n",
    "from sklearn.model_selection import train_test_split\n",
    "from sklearn.preprocessing import LabelEncoder\n",
    "\n",
    "import numpy as np\n",
    "import matplotlib.pyplot as plt\n",
    "import pandas as pd"
   ]
  },
  {
   "cell_type": "code",
   "execution_count": 3,
   "metadata": {},
   "outputs": [],
   "source": [
    "import cv2\n",
    "\n",
    "import matplotlib.image as mpimg"
   ]
  },
  {
   "cell_type": "code",
   "execution_count": 4,
   "metadata": {},
   "outputs": [
    {
     "data": {
      "text/plain": [
       "array(['Topwear', 'Bottomwear', 'Footwear'], dtype=object)"
      ]
     },
     "execution_count": 4,
     "metadata": {},
     "output_type": "execute_result"
    }
   ],
   "source": [
    "\n",
    "styles = get_df()\n",
    "\n",
    "styles[\"subCategory\"].unique() # we can check by this code that we only have three subcategory now.\n"
   ]
  },
  {
   "cell_type": "code",
   "execution_count": null,
   "metadata": {},
   "outputs": [],
   "source": []
  },
  {
   "cell_type": "code",
   "execution_count": 5,
   "metadata": {},
   "outputs": [
    {
     "data": {
      "text/plain": [
       "array(['Bottomwear', 'Footwear', 'Topwear'], dtype=object)"
      ]
     },
     "execution_count": 5,
     "metadata": {},
     "output_type": "execute_result"
    }
   ],
   "source": [
    "\n",
    "le = LabelEncoder()\n",
    "#\n",
    "styles[\"subCategory\"] = le.fit_transform(styles[\"subCategory\"])\n",
    "\n",
    "styles.head()\n",
    "\n",
    "le.classes_\n",
    "\n"
   ]
  },
  {
   "cell_type": "code",
   "execution_count": 6,
   "metadata": {},
   "outputs": [
    {
     "name": "stdout",
     "output_type": "stream",
     "text": [
      "Error reading image 'D:\\Project\\PAHIRAN\\DATASET\\images\\28492.jpg': Invalid shape\n",
      "Error reading image 'D:\\Project\\PAHIRAN\\DATASET\\images\\14776.jpg': Invalid shape\n",
      "Error reading image 'D:\\Project\\PAHIRAN\\DATASET\\images\\5408.jpg': Invalid shape\n",
      "Error reading image 'D:\\Project\\PAHIRAN\\DATASET\\images\\1799.jpg': Invalid shape\n",
      "Error reading image 'D:\\Project\\PAHIRAN\\DATASET\\images\\2311.jpg': Invalid shape\n",
      "Model: \"model\"\n",
      "_________________________________________________________________\n",
      " Layer (type)                Output Shape              Param #   \n",
      "=================================================================\n",
      " images (InputLayer)         [(None, 80, 60, 3)]       0         \n",
      "                                                                 \n",
      " resnet50 (Functional)       (None, 3, 2, 2048)        23587712  \n",
      "                                                                 \n",
      " conv2d (Conv2D)             (None, 2, 1, 32)          262176    \n",
      "                                                                 \n",
      " flatten (Flatten)           (None, 64)                0         \n",
      "                                                                 \n",
      " dense (Dense)               (None, 1024)              66560     \n",
      "                                                                 \n",
      " dense_1 (Dense)             (None, 512)               524800    \n",
      "                                                                 \n",
      " dense_2 (Dense)             (None, 256)               131328    \n",
      "                                                                 \n",
      " dense_3 (Dense)             (None, 128)               32896     \n",
      "                                                                 \n",
      " dense_4 (Dense)             (None, 64)                8256      \n",
      "                                                                 \n",
      " dense_5 (Dense)             (None, 3)                 195       \n",
      "                                                                 \n",
      " subCategory (Activation)    (None, 3)                 0         \n",
      "                                                                 \n",
      "=================================================================\n",
      "Total params: 24,613,923\n",
      "Trainable params: 1,026,211\n",
      "Non-trainable params: 23,587,712\n",
      "_________________________________________________________________\n"
     ]
    }
   ],
   "source": [
    "\n",
    "# styles, articleTypeLB, genderLB, baseColourLB, seasonLB, usageLB = my_le(styles)\n",
    "\n",
    "sub_train,sub_val,sub_test=make_input_xx(make_input_array_subcate(styles))\n",
    "sub_model = building_model(80,60)\n",
    "sub_model.summary()\n",
    "\n"
   ]
  },
  {
   "cell_type": "code",
   "execution_count": 9,
   "metadata": {},
   "outputs": [
    {
     "name": "stdout",
     "output_type": "stream",
     "text": [
      "Epoch 1/5\n",
      "1600/1600 [==============================] - 206s 127ms/step - loss: 0.1419 - accuracy: 0.9869 - val_loss: 0.1093 - val_accuracy: 0.9925\n",
      "Epoch 2/5\n",
      "1600/1600 [==============================] - 197s 123ms/step - loss: 0.0815 - accuracy: 0.9878 - val_loss: 0.0468 - val_accuracy: 0.9910\n",
      "Epoch 3/5\n",
      "1600/1600 [==============================] - 199s 124ms/step - loss: 0.0570 - accuracy: 0.9891 - val_loss: 0.0503 - val_accuracy: 0.9928\n",
      "Epoch 4/5\n",
      "1600/1600 [==============================] - 197s 123ms/step - loss: 0.1459 - accuracy: 0.9881 - val_loss: 0.0865 - val_accuracy: 0.9886\n",
      "Epoch 5/5\n",
      "1600/1600 [==============================] - 196s 123ms/step - loss: 0.2348 - accuracy: 0.9769 - val_loss: 0.1254 - val_accuracy: 0.9910\n"
     ]
    },
    {
     "name": "stderr",
     "output_type": "stream",
     "text": [
      "WARNING:absl:Found untraced functions such as _jit_compiled_convolution_op, _jit_compiled_convolution_op, _jit_compiled_convolution_op, _jit_compiled_convolution_op, _jit_compiled_convolution_op while saving (showing 5 of 54). These functions will not be directly callable after loading.\n"
     ]
    },
    {
     "name": "stdout",
     "output_type": "stream",
     "text": [
      "INFO:tensorflow:Assets written to: D:\\Project\\PAHIRAN\\Pahiran-wardobe-management-system\\model\\model_sub\\assets\n"
     ]
    },
    {
     "name": "stderr",
     "output_type": "stream",
     "text": [
      "INFO:tensorflow:Assets written to: D:\\Project\\PAHIRAN\\Pahiran-wardobe-management-system\\model\\model_sub\\assets\n",
      "d:\\users\\anaconda3\\envs\\tensorflow\\lib\\site-packages\\keras\\backend.py:5582: UserWarning: \"`sparse_categorical_crossentropy` received `from_logits=True`, but the `output` argument was produced by a Softmax activation and thus does not represent logits. Was this intended?\n",
      "  output, from_logits = _get_logits(\n"
     ]
    },
    {
     "name": "stdout",
     "output_type": "stream",
     "text": [
      "2726/2726 [==============================] - 128s 47ms/step - loss: 0.1198 - accuracy: 0.9917\n"
     ]
    },
    {
     "data": {
      "text/plain": [
       "[0.11984460800886154, 0.9917461276054382]"
      ]
     },
     "execution_count": 9,
     "metadata": {},
     "output_type": "execute_result"
    }
   ],
   "source": [
    "\n",
    "from tensorflow.keras.utils import plot_model\n",
    "plot_model(sub_model)\n",
    "\n",
    "sub_model.compile(optimizer='adam',\n",
    "              loss=tf.keras.losses.SparseCategoricalCrossentropy(from_logits=True),\n",
    "              metrics=['accuracy'])\n",
    "\n",
    "sub_history = sub_model.fit(sub_train, \n",
    "                    epochs=5, \n",
    "                    steps_per_epoch = 1600,\n",
    "                    validation_data = sub_val)\n",
    "\n",
    "sub_model.save(\"D:\\Project\\PAHIRAN\\Pahiran-wardobe-management-system\\model\\model_sub\")\n",
    "\n",
    "test_model = tf.keras.models.load_model(\"D:\\Project\\PAHIRAN\\Pahiran-wardobe-management-system\\model\\model_sub\")\n",
    "\n",
    "test_model.evaluate(sub_test)"
   ]
  },
  {
   "cell_type": "code",
   "execution_count": 10,
   "metadata": {},
   "outputs": [],
   "source": [
    "\n",
    "top_df = get_234_df(\"Topwear\")\n",
    "bottom_df = get_234_df(\"Bottomwear\")\n",
    "foot_df = get_234_df(\"Footwear\")\n",
    "top_df,top_art,top_gen,top_base,top_sea,top_usage = my_le(top_df)\n",
    "bottom_df,bottom_art,bottom_gen,bottom_base,bottom_sea,bottom_usage = my_le(bottom_df)\n",
    "foot_df,foot_art,foot_gen,foot_base,foot_sea,foot_usage = my_le(foot_df)\n",
    "foot_usage.classes_\n",
    "\n",
    "top_base_model = build_model(80,60,top_art,top_gen,top_base,top_sea,top_usage)\n",
    "bottom_base_model = build_model(80,60,bottom_art,bottom_gen,bottom_base,bottom_sea,bottom_usage)\n",
    "foot_base_model = build_model(80,60,foot_art,foot_gen,foot_base,foot_sea,foot_usage)\n"
   ]
  },
  {
   "cell_type": "code",
   "execution_count": 11,
   "metadata": {},
   "outputs": [],
   "source": [
    "top_train, top_val, top_test = make_input_xx(make_input_array_2(top_df))\n"
   ]
  },
  {
   "cell_type": "code",
   "execution_count": 12,
   "metadata": {},
   "outputs": [],
   "source": [
    "bottom_train, bottom_val, bottom_test = make_input_xx(make_input_array_2(bottom_df))\n"
   ]
  },
  {
   "cell_type": "code",
   "execution_count": 13,
   "metadata": {},
   "outputs": [],
   "source": [
    "foot_train, foot_val, foot_test = make_input_xx(make_input_array_2(foot_df))\n"
   ]
  },
  {
   "cell_type": "code",
   "execution_count": null,
   "metadata": {},
   "outputs": [],
   "source": []
  },
  {
   "cell_type": "code",
   "execution_count": 14,
   "metadata": {},
   "outputs": [
    {
     "name": "stdout",
     "output_type": "stream",
     "text": [
      "Epoch 1/9\n"
     ]
    },
    {
     "name": "stderr",
     "output_type": "stream",
     "text": [
      "d:\\users\\anaconda3\\envs\\tensorflow\\lib\\site-packages\\keras\\backend.py:5582: UserWarning: \"`sparse_categorical_crossentropy` received `from_logits=True`, but the `output` argument was produced by a Softmax activation and thus does not represent logits. Was this intended?\n",
      "  output, from_logits = _get_logits(\n"
     ]
    },
    {
     "name": "stdout",
     "output_type": "stream",
     "text": [
      "500/500 [==============================] - 149s 287ms/step - loss: 6.5656 - articleType_loss: 1.5512 - gender_loss: 0.6677 - baseColour_loss: 2.4708 - season_loss: 0.9380 - usage_loss: 0.9378 - articleType_accuracy: 0.5600 - gender_accuracy: 0.7600 - baseColour_accuracy: 0.2080 - season_accuracy: 0.5670 - usage_accuracy: 0.7200 - val_loss: 5.6790 - val_articleType_loss: 1.2835 - val_gender_loss: 0.5049 - val_baseColour_loss: 2.2711 - val_season_loss: 0.8189 - val_usage_loss: 0.8007 - val_articleType_accuracy: 0.6687 - val_gender_accuracy: 0.8283 - val_baseColour_accuracy: 0.2604 - val_season_accuracy: 0.6177 - val_usage_accuracy: 0.7266\n",
      "Epoch 2/9\n",
      "500/500 [==============================] - 143s 286ms/step - loss: 5.2567 - articleType_loss: 1.0752 - gender_loss: 0.4984 - baseColour_loss: 2.2777 - season_loss: 0.7939 - usage_loss: 0.6114 - articleType_accuracy: 0.6810 - gender_accuracy: 0.8290 - baseColour_accuracy: 0.2800 - season_accuracy: 0.5580 - usage_accuracy: 0.7850 - val_loss: 5.3094 - val_articleType_loss: 1.0830 - val_gender_loss: 0.5105 - val_baseColour_loss: 2.2895 - val_season_loss: 0.8099 - val_usage_loss: 0.6166 - val_articleType_accuracy: 0.6934 - val_gender_accuracy: 0.8118 - val_baseColour_accuracy: 0.2324 - val_season_accuracy: 0.6089 - val_usage_accuracy: 0.7656\n",
      "Epoch 3/9\n",
      "500/500 [==============================] - 145s 290ms/step - loss: 5.0275 - articleType_loss: 1.1245 - gender_loss: 0.3799 - baseColour_loss: 2.1047 - season_loss: 0.8000 - usage_loss: 0.6184 - articleType_accuracy: 0.6640 - gender_accuracy: 0.8740 - baseColour_accuracy: 0.3400 - season_accuracy: 0.6370 - usage_accuracy: 0.8000 - val_loss: 4.9042 - val_articleType_loss: 1.0059 - val_gender_loss: 0.5229 - val_baseColour_loss: 2.0192 - val_season_loss: 0.8061 - val_usage_loss: 0.5501 - val_articleType_accuracy: 0.6902 - val_gender_accuracy: 0.8293 - val_baseColour_accuracy: 0.3196 - val_season_accuracy: 0.6115 - val_usage_accuracy: 0.8462\n",
      "Epoch 4/9\n",
      "500/500 [==============================] - 146s 292ms/step - loss: 4.4897 - articleType_loss: 0.9327 - gender_loss: 0.3894 - baseColour_loss: 1.9003 - season_loss: 0.7450 - usage_loss: 0.5223 - articleType_accuracy: 0.7130 - gender_accuracy: 0.8720 - baseColour_accuracy: 0.3790 - season_accuracy: 0.6220 - usage_accuracy: 0.8430 - val_loss: 4.3400 - val_articleType_loss: 0.8543 - val_gender_loss: 0.3039 - val_baseColour_loss: 1.9436 - val_season_loss: 0.7783 - val_usage_loss: 0.4599 - val_articleType_accuracy: 0.7507 - val_gender_accuracy: 0.8836 - val_baseColour_accuracy: 0.3755 - val_season_accuracy: 0.6417 - val_usage_accuracy: 0.8674\n",
      "Epoch 5/9\n",
      "500/500 [==============================] - 144s 289ms/step - loss: 4.4979 - articleType_loss: 0.9556 - gender_loss: 0.3351 - baseColour_loss: 1.9697 - season_loss: 0.7610 - usage_loss: 0.4764 - articleType_accuracy: 0.7330 - gender_accuracy: 0.8820 - baseColour_accuracy: 0.3760 - season_accuracy: 0.6140 - usage_accuracy: 0.8540 - val_loss: 4.5226 - val_articleType_loss: 0.8648 - val_gender_loss: 0.3734 - val_baseColour_loss: 1.9081 - val_season_loss: 0.8350 - val_usage_loss: 0.5413 - val_articleType_accuracy: 0.7510 - val_gender_accuracy: 0.9044 - val_baseColour_accuracy: 0.3940 - val_season_accuracy: 0.6378 - val_usage_accuracy: 0.8280\n",
      "Epoch 6/9\n",
      "500/500 [==============================] - 144s 287ms/step - loss: 4.4238 - articleType_loss: 0.9277 - gender_loss: 0.3474 - baseColour_loss: 1.8618 - season_loss: 0.7953 - usage_loss: 0.4916 - articleType_accuracy: 0.7450 - gender_accuracy: 0.8700 - baseColour_accuracy: 0.4040 - season_accuracy: 0.6210 - usage_accuracy: 0.8410 - val_loss: 4.3580 - val_articleType_loss: 0.9643 - val_gender_loss: 0.4017 - val_baseColour_loss: 1.7990 - val_season_loss: 0.7420 - val_usage_loss: 0.4509 - val_articleType_accuracy: 0.7250 - val_gender_accuracy: 0.8414 - val_baseColour_accuracy: 0.4282 - val_season_accuracy: 0.6469 - val_usage_accuracy: 0.8394\n",
      "Epoch 7/9\n",
      "500/500 [==============================] - 144s 288ms/step - loss: 4.2310 - articleType_loss: 0.9105 - gender_loss: 0.2949 - baseColour_loss: 1.8253 - season_loss: 0.7631 - usage_loss: 0.4372 - articleType_accuracy: 0.7350 - gender_accuracy: 0.8940 - baseColour_accuracy: 0.4200 - season_accuracy: 0.6050 - usage_accuracy: 0.8670 - val_loss: 4.0606 - val_articleType_loss: 0.8094 - val_gender_loss: 0.2637 - val_baseColour_loss: 1.7615 - val_season_loss: 0.7510 - val_usage_loss: 0.4749 - val_articleType_accuracy: 0.7526 - val_gender_accuracy: 0.9132 - val_baseColour_accuracy: 0.4538 - val_season_accuracy: 0.6443 - val_usage_accuracy: 0.8362\n",
      "Epoch 8/9\n",
      "500/500 [==============================] - 143s 286ms/step - loss: 4.1742 - articleType_loss: 0.8875 - gender_loss: 0.2970 - baseColour_loss: 1.7691 - season_loss: 0.7522 - usage_loss: 0.4685 - articleType_accuracy: 0.7450 - gender_accuracy: 0.8960 - baseColour_accuracy: 0.4510 - season_accuracy: 0.6130 - usage_accuracy: 0.8410 - val_loss: 4.0064 - val_articleType_loss: 0.7387 - val_gender_loss: 0.3467 - val_baseColour_loss: 1.7409 - val_season_loss: 0.7615 - val_usage_loss: 0.4186 - val_articleType_accuracy: 0.7763 - val_gender_accuracy: 0.8596 - val_baseColour_accuracy: 0.4415 - val_season_accuracy: 0.6167 - val_usage_accuracy: 0.8479\n",
      "Epoch 9/9\n",
      "500/500 [==============================] - 144s 289ms/step - loss: 4.3077 - articleType_loss: 0.9189 - gender_loss: 0.3731 - baseColour_loss: 1.7640 - season_loss: 0.7788 - usage_loss: 0.4730 - articleType_accuracy: 0.7240 - gender_accuracy: 0.8980 - baseColour_accuracy: 0.4530 - season_accuracy: 0.6190 - usage_accuracy: 0.8400 - val_loss: 3.8874 - val_articleType_loss: 0.6942 - val_gender_loss: 0.2974 - val_baseColour_loss: 1.7231 - val_season_loss: 0.7638 - val_usage_loss: 0.4089 - val_articleType_accuracy: 0.7858 - val_gender_accuracy: 0.8908 - val_baseColour_accuracy: 0.4376 - val_season_accuracy: 0.6320 - val_usage_accuracy: 0.8752\n",
      "1539/1539 [==============================] - 97s 63ms/step - loss: 3.9123 - articleType_loss: 0.7577 - gender_loss: 0.3013 - baseColour_loss: 1.7051 - season_loss: 0.7741 - usage_loss: 0.3741 - articleType_accuracy: 0.7726 - gender_accuracy: 0.8775 - baseColour_accuracy: 0.4357 - season_accuracy: 0.6339 - usage_accuracy: 0.8843\n"
     ]
    },
    {
     "name": "stderr",
     "output_type": "stream",
     "text": [
      "WARNING:absl:Found untraced functions such as _jit_compiled_convolution_op, _jit_compiled_convolution_op, _jit_compiled_convolution_op, _jit_compiled_convolution_op, _jit_compiled_convolution_op while saving (showing 5 of 53). These functions will not be directly callable after loading.\n"
     ]
    },
    {
     "name": "stdout",
     "output_type": "stream",
     "text": [
      "INFO:tensorflow:Assets written to: D:\\Project\\PAHIRAN\\Pahiran-wardobe-management-system\\model\\model_top\\assets\n"
     ]
    },
    {
     "name": "stderr",
     "output_type": "stream",
     "text": [
      "INFO:tensorflow:Assets written to: D:\\Project\\PAHIRAN\\Pahiran-wardobe-management-system\\model\\model_top\\assets\n"
     ]
    },
    {
     "name": "stdout",
     "output_type": "stream",
     "text": [
      "Epoch 1/9\n"
     ]
    },
    {
     "name": "stderr",
     "output_type": "stream",
     "text": [
      "d:\\users\\anaconda3\\envs\\tensorflow\\lib\\site-packages\\keras\\backend.py:5582: UserWarning: \"`sparse_categorical_crossentropy` received `from_logits=True`, but the `output` argument was produced by a Softmax activation and thus does not represent logits. Was this intended?\n",
      "  output, from_logits = _get_logits(\n"
     ]
    },
    {
     "name": "stdout",
     "output_type": "stream",
     "text": [
      "500/500 [==============================] - 78s 146ms/step - loss: 6.9300 - articleType_loss: 1.8223 - gender_loss: 0.8949 - baseColour_loss: 2.1708 - season_loss: 1.0641 - usage_loss: 0.9778 - articleType_accuracy: 0.4340 - gender_accuracy: 0.6510 - baseColour_accuracy: 0.2990 - season_accuracy: 0.5560 - usage_accuracy: 0.6910 - val_loss: 5.8453 - val_articleType_loss: 1.5391 - val_gender_loss: 0.8360 - val_baseColour_loss: 1.8814 - val_season_loss: 0.9099 - val_usage_loss: 0.6789 - val_articleType_accuracy: 0.4786 - val_gender_accuracy: 0.6685 - val_baseColour_accuracy: 0.3799 - val_season_accuracy: 0.5847 - val_usage_accuracy: 0.7765\n",
      "Epoch 2/9\n",
      "306/500 [=================>............] - ETA: 21s - loss: 5.6724 - articleType_loss: 1.4693 - gender_loss: 0.6781 - baseColour_loss: 1.8711 - season_loss: 0.9096 - usage_loss: 0.7444 - articleType_accuracy: 0.5466 - gender_accuracy: 0.7365 - baseColour_accuracy: 0.3895 - season_accuracy: 0.5941 - usage_accuracy: 0.7152WARNING:tensorflow:Your input ran out of data; interrupting training. Make sure that your dataset or generator can generate at least `steps_per_epoch * epochs` batches (in this case, 4500 batches). You may need to use the repeat() function when building your dataset.\n"
     ]
    },
    {
     "name": "stderr",
     "output_type": "stream",
     "text": [
      "WARNING:tensorflow:Your input ran out of data; interrupting training. Make sure that your dataset or generator can generate at least `steps_per_epoch * epochs` batches (in this case, 4500 batches). You may need to use the repeat() function when building your dataset.\n"
     ]
    },
    {
     "name": "stdout",
     "output_type": "stream",
     "text": [
      "500/500 [==============================] - 49s 98ms/step - loss: 5.6724 - articleType_loss: 1.4693 - gender_loss: 0.6781 - baseColour_loss: 1.8711 - season_loss: 0.9096 - usage_loss: 0.7444 - articleType_accuracy: 0.5466 - gender_accuracy: 0.7365 - baseColour_accuracy: 0.3895 - season_accuracy: 0.5941 - usage_accuracy: 0.7152 - val_loss: 5.4174 - val_articleType_loss: 1.2568 - val_gender_loss: 0.6699 - val_baseColour_loss: 1.8909 - val_season_loss: 0.9161 - val_usage_loss: 0.6837 - val_articleType_accuracy: 0.6201 - val_gender_accuracy: 0.7281 - val_baseColour_accuracy: 0.3818 - val_season_accuracy: 0.6089 - val_usage_accuracy: 0.7412\n",
      "269/269 [==============================] - 19s 69ms/step - loss: 5.4450 - articleType_loss: 1.3866 - gender_loss: 0.6564 - baseColour_loss: 1.8556 - season_loss: 0.9139 - usage_loss: 0.6326 - articleType_accuracy: 0.6034 - gender_accuracy: 0.7356 - baseColour_accuracy: 0.3594 - season_accuracy: 0.6220 - usage_accuracy: 0.7467\n"
     ]
    },
    {
     "name": "stderr",
     "output_type": "stream",
     "text": [
      "WARNING:absl:Found untraced functions such as _jit_compiled_convolution_op, _jit_compiled_convolution_op, _jit_compiled_convolution_op, _jit_compiled_convolution_op, _jit_compiled_convolution_op while saving (showing 5 of 53). These functions will not be directly callable after loading.\n"
     ]
    },
    {
     "name": "stdout",
     "output_type": "stream",
     "text": [
      "INFO:tensorflow:Assets written to: D:\\Project\\PAHIRAN\\Pahiran-wardobe-management-system\\model\\model_bottom\\assets\n"
     ]
    },
    {
     "name": "stderr",
     "output_type": "stream",
     "text": [
      "INFO:tensorflow:Assets written to: D:\\Project\\PAHIRAN\\Pahiran-wardobe-management-system\\model\\model_bottom\\assets\n"
     ]
    },
    {
     "name": "stdout",
     "output_type": "stream",
     "text": [
      "Epoch 1/7\n"
     ]
    },
    {
     "name": "stderr",
     "output_type": "stream",
     "text": [
      "d:\\users\\anaconda3\\envs\\tensorflow\\lib\\site-packages\\keras\\backend.py:5582: UserWarning: \"`sparse_categorical_crossentropy` received `from_logits=True`, but the `output` argument was produced by a Softmax activation and thus does not represent logits. Was this intended?\n",
      "  output, from_logits = _get_logits(\n"
     ]
    },
    {
     "name": "stdout",
     "output_type": "stream",
     "text": [
      "500/500 [==============================] - 116s 221ms/step - loss: 6.3562 - articleType_loss: 1.5570 - gender_loss: 0.8033 - baseColour_loss: 1.9154 - season_loss: 1.2621 - usage_loss: 0.8185 - articleType_accuracy: 0.4450 - gender_accuracy: 0.7110 - baseColour_accuracy: 0.3760 - season_accuracy: 0.4670 - usage_accuracy: 0.6820 - val_loss: 5.2049 - val_articleType_loss: 1.1461 - val_gender_loss: 0.6688 - val_baseColour_loss: 1.7322 - val_season_loss: 1.1050 - val_usage_loss: 0.5528 - val_articleType_accuracy: 0.5791 - val_gender_accuracy: 0.7743 - val_baseColour_accuracy: 0.4067 - val_season_accuracy: 0.5302 - val_usage_accuracy: 0.7558\n",
      "Epoch 2/7\n",
      "500/500 [==============================] - 109s 218ms/step - loss: 5.2934 - articleType_loss: 1.1696 - gender_loss: 0.6385 - baseColour_loss: 1.7398 - season_loss: 1.1374 - usage_loss: 0.6081 - articleType_accuracy: 0.5720 - gender_accuracy: 0.7960 - baseColour_accuracy: 0.4430 - season_accuracy: 0.5290 - usage_accuracy: 0.7820 - val_loss: 5.0363 - val_articleType_loss: 1.0938 - val_gender_loss: 0.6437 - val_baseColour_loss: 1.6895 - val_season_loss: 1.0582 - val_usage_loss: 0.5511 - val_articleType_accuracy: 0.6123 - val_gender_accuracy: 0.7945 - val_baseColour_accuracy: 0.4666 - val_season_accuracy: 0.5470 - val_usage_accuracy: 0.7673\n",
      "Epoch 3/7\n",
      "500/500 [==============================] - 109s 218ms/step - loss: 5.0464 - articleType_loss: 1.1214 - gender_loss: 0.6561 - baseColour_loss: 1.6524 - season_loss: 1.0875 - usage_loss: 0.5289 - articleType_accuracy: 0.5900 - gender_accuracy: 0.7800 - baseColour_accuracy: 0.4670 - season_accuracy: 0.5120 - usage_accuracy: 0.7780 - val_loss: 4.9057 - val_articleType_loss: 1.0299 - val_gender_loss: 0.6162 - val_baseColour_loss: 1.7039 - val_season_loss: 1.0525 - val_usage_loss: 0.5032 - val_articleType_accuracy: 0.6574 - val_gender_accuracy: 0.8265 - val_baseColour_accuracy: 0.4231 - val_season_accuracy: 0.5546 - val_usage_accuracy: 0.8407\n",
      "Epoch 4/7\n",
      "500/500 [==============================] - 107s 214ms/step - loss: 4.9182 - articleType_loss: 1.0165 - gender_loss: 0.6181 - baseColour_loss: 1.6174 - season_loss: 1.0897 - usage_loss: 0.5765 - articleType_accuracy: 0.6120 - gender_accuracy: 0.8060 - baseColour_accuracy: 0.4810 - season_accuracy: 0.5220 - usage_accuracy: 0.7900 - val_loss: 4.5638 - val_articleType_loss: 0.9205 - val_gender_loss: 0.5401 - val_baseColour_loss: 1.6036 - val_season_loss: 1.0623 - val_usage_loss: 0.4373 - val_articleType_accuracy: 0.6694 - val_gender_accuracy: 0.8287 - val_baseColour_accuracy: 0.4948 - val_season_accuracy: 0.5704 - val_usage_accuracy: 0.8347\n",
      "Epoch 5/7\n",
      "500/500 [==============================] - 107s 215ms/step - loss: 4.5902 - articleType_loss: 0.9729 - gender_loss: 0.5481 - baseColour_loss: 1.4997 - season_loss: 1.0483 - usage_loss: 0.5211 - articleType_accuracy: 0.6400 - gender_accuracy: 0.8340 - baseColour_accuracy: 0.5390 - season_accuracy: 0.5420 - usage_accuracy: 0.8040 - val_loss: 4.4925 - val_articleType_loss: 0.8196 - val_gender_loss: 0.6331 - val_baseColour_loss: 1.5166 - val_season_loss: 1.0765 - val_usage_loss: 0.4466 - val_articleType_accuracy: 0.6786 - val_gender_accuracy: 0.8042 - val_baseColour_accuracy: 0.4927 - val_season_accuracy: 0.5285 - val_usage_accuracy: 0.8592\n",
      "Epoch 6/7\n",
      "259/500 [==============>...............] - ETA: 26s - loss: 4.5236 - articleType_loss: 0.8989 - gender_loss: 0.5714 - baseColour_loss: 1.5743 - season_loss: 1.0258 - usage_loss: 0.4532 - articleType_accuracy: 0.6622 - gender_accuracy: 0.8147 - baseColour_accuracy: 0.5097 - season_accuracy: 0.5637 - usage_accuracy: 0.8456WARNING:tensorflow:Your input ran out of data; interrupting training. Make sure that your dataset or generator can generate at least `steps_per_epoch * epochs` batches (in this case, 3500 batches). You may need to use the repeat() function when building your dataset.\n"
     ]
    },
    {
     "name": "stderr",
     "output_type": "stream",
     "text": [
      "WARNING:tensorflow:Your input ran out of data; interrupting training. Make sure that your dataset or generator can generate at least `steps_per_epoch * epochs` batches (in this case, 3500 batches). You may need to use the repeat() function when building your dataset.\n"
     ]
    },
    {
     "name": "stdout",
     "output_type": "stream",
     "text": [
      "500/500 [==============================] - 81s 163ms/step - loss: 4.5236 - articleType_loss: 0.8989 - gender_loss: 0.5714 - baseColour_loss: 1.5743 - season_loss: 1.0258 - usage_loss: 0.4532 - articleType_accuracy: 0.6622 - gender_accuracy: 0.8147 - baseColour_accuracy: 0.5097 - season_accuracy: 0.5637 - usage_accuracy: 0.8456 - val_loss: 4.8044 - val_articleType_loss: 1.1086 - val_gender_loss: 0.6233 - val_baseColour_loss: 1.5786 - val_season_loss: 1.0300 - val_usage_loss: 0.4639 - val_articleType_accuracy: 0.6558 - val_gender_accuracy: 0.7678 - val_baseColour_accuracy: 0.4840 - val_season_accuracy: 0.5204 - val_usage_accuracy: 0.8418\n",
      "920/920 [==============================] - 55s 60ms/step - loss: 4.6406 - articleType_loss: 1.0235 - gender_loss: 0.6478 - baseColour_loss: 1.5378 - season_loss: 1.0047 - usage_loss: 0.4268 - articleType_accuracy: 0.6641 - gender_accuracy: 0.7696 - baseColour_accuracy: 0.4880 - season_accuracy: 0.5609 - usage_accuracy: 0.8473\n"
     ]
    },
    {
     "name": "stderr",
     "output_type": "stream",
     "text": [
      "WARNING:absl:Found untraced functions such as _jit_compiled_convolution_op, _jit_compiled_convolution_op, _jit_compiled_convolution_op, _jit_compiled_convolution_op, _jit_compiled_convolution_op while saving (showing 5 of 53). These functions will not be directly callable after loading.\n"
     ]
    },
    {
     "name": "stdout",
     "output_type": "stream",
     "text": [
      "INFO:tensorflow:Assets written to: D:\\Project\\PAHIRAN\\Pahiran-wardobe-management-system\\model\\model_foot\\assets\n"
     ]
    },
    {
     "name": "stderr",
     "output_type": "stream",
     "text": [
      "INFO:tensorflow:Assets written to: D:\\Project\\PAHIRAN\\Pahiran-wardobe-management-system\\model\\model_foot\\assets\n"
     ]
    },
    {
     "ename": "",
     "evalue": "",
     "output_type": "error",
     "traceback": [
      "\u001b[1;31mThe Kernel crashed while executing code in the current cell or a previous cell. \n",
      "\u001b[1;31mPlease review the code in the cell(s) to identify a possible cause of the failure. \n",
      "\u001b[1;31mClick <a href='https://aka.ms/vscodeJupyterKernelCrash'>here</a> for more info. \n",
      "\u001b[1;31mView Jupyter <a href='command:jupyter.viewOutput'>log</a> for further details."
     ]
    }
   ],
   "source": [
    "\n",
    "\n",
    "\n",
    "\n",
    "\n",
    "foot_train, foot_val, foot_test = make_input_xx(make_input_array_2(foot_df))\n",
    "\n",
    "top_base_model.compile(optimizer='adam',\n",
    "              loss=tf.keras.losses.SparseCategoricalCrossentropy(from_logits=True),\n",
    "              metrics=['accuracy'])\n",
    "bottom_base_model.compile(optimizer='adam',\n",
    "              loss=tf.keras.losses.SparseCategoricalCrossentropy(from_logits=True),\n",
    "              metrics=['accuracy'])\n",
    "foot_base_model.compile(optimizer='adam',\n",
    "              loss=tf.keras.losses.SparseCategoricalCrossentropy(from_logits=True),\n",
    "              metrics=['accuracy'])\n",
    "\n",
    "top_history = top_base_model.fit(top_train, \n",
    "                    epochs=9, \n",
    "                    steps_per_epoch = 500,\n",
    "                    validation_data = top_val)\n",
    "\n",
    "top_base_model.evaluate(top_test)\n",
    "\n",
    "top_base_model.save(\"D:\\Project\\PAHIRAN\\Pahiran-wardobe-management-system\\model\\model_top\")\n",
    "\n",
    "\n",
    "\n",
    "bottom_history = bottom_base_model.fit(bottom_train, \n",
    "                    epochs=9, \n",
    "                    steps_per_epoch = 500,\n",
    "                    validation_data = bottom_val)\n",
    "\n",
    "bottom_base_model.evaluate(bottom_test)\n",
    "\n",
    "bottom_base_model.save(\"D:\\Project\\PAHIRAN\\Pahiran-wardobe-management-system\\model\\model_bottom\")\n",
    "\n",
    "\n",
    "\n",
    "foot_history = foot_base_model.fit(foot_train, \n",
    "                    epochs=7, \n",
    "                    steps_per_epoch = 500,\n",
    "                    validation_data = foot_val)\n",
    "\n",
    "foot_base_model.evaluate(foot_test)\n",
    "\n",
    "foot_base_model.save(\"D:\\Project\\PAHIRAN\\Pahiran-wardobe-management-system\\model\\model_foot\")\n"
   ]
  }
 ],
 "metadata": {
  "kernelspec": {
   "display_name": "environment",
   "language": "python",
   "name": "python3"
  },
  "language_info": {
   "codemirror_mode": {
    "name": "ipython",
    "version": 3
   },
   "file_extension": ".py",
   "mimetype": "text/x-python",
   "name": "python",
   "nbconvert_exporter": "python",
   "pygments_lexer": "ipython3",
   "version": "3.10.13"
  }
 },
 "nbformat": 4,
 "nbformat_minor": 2
}
